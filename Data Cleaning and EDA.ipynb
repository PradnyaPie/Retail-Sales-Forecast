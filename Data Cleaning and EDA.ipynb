{
 "cells": [
  {
   "cell_type": "markdown",
   "metadata": {
    "id": "_ZJBcYdJJqhA"
   },
   "source": [
    "# Quantity Prediction Model for Retail Store\n",
    "### (To overcome inventory problem )"
   ]
  },
  {
   "cell_type": "markdown",
   "metadata": {
    "id": "TkZ53_jYJqhE"
   },
   "source": [
    "### Importing necessary Libraries for project"
   ]
  },
  {
   "cell_type": "code",
   "execution_count": 1,
   "metadata": {
    "id": "omt7azvNJqhE"
   },
   "outputs": [],
   "source": [
    "import pandas as pd\n",
    "import numpy as np\n",
    "import matplotlib.pyplot as plt\n",
    "import seaborn as sns\n",
    "import warnings\n",
    "warnings.filterwarnings('ignore')"
   ]
  },
  {
   "cell_type": "markdown",
   "metadata": {
    "id": "sZyE9uULJqhG"
   },
   "source": [
    "### Importing and loading required dataset for analysis"
   ]
  },
  {
   "cell_type": "code",
   "execution_count": 2,
   "metadata": {
    "id": "CMnFr1XzJqhG"
   },
   "outputs": [],
   "source": [
    "prod = pd.read_excel(\"Combined.xlsx\", sheet_name = \"Product Master\")"
   ]
  },
  {
   "cell_type": "code",
   "execution_count": 3,
   "metadata": {
    "id": "6zglR8iWJqhG",
    "outputId": "8d09985e-1ebf-494a-9673-b127b35fbcc6"
   },
   "outputs": [
    {
     "data": {
      "text/html": [
       "<div>\n",
       "<style scoped>\n",
       "    .dataframe tbody tr th:only-of-type {\n",
       "        vertical-align: middle;\n",
       "    }\n",
       "\n",
       "    .dataframe tbody tr th {\n",
       "        vertical-align: top;\n",
       "    }\n",
       "\n",
       "    .dataframe thead th {\n",
       "        text-align: right;\n",
       "    }\n",
       "</style>\n",
       "<table border=\"1\" class=\"dataframe\">\n",
       "  <thead>\n",
       "    <tr style=\"text-align: right;\">\n",
       "      <th></th>\n",
       "      <th>Product</th>\n",
       "      <th>Category</th>\n",
       "    </tr>\n",
       "  </thead>\n",
       "  <tbody>\n",
       "    <tr>\n",
       "      <th>0</th>\n",
       "      <td>Product153</td>\n",
       "      <td>Category3</td>\n",
       "    </tr>\n",
       "    <tr>\n",
       "      <th>1</th>\n",
       "      <td>Product167</td>\n",
       "      <td>Category3</td>\n",
       "    </tr>\n",
       "    <tr>\n",
       "      <th>2</th>\n",
       "      <td>Product163</td>\n",
       "      <td>Category3</td>\n",
       "    </tr>\n",
       "    <tr>\n",
       "      <th>3</th>\n",
       "      <td>Product139</td>\n",
       "      <td>Category3</td>\n",
       "    </tr>\n",
       "    <tr>\n",
       "      <th>4</th>\n",
       "      <td>Product170</td>\n",
       "      <td>Category3</td>\n",
       "    </tr>\n",
       "    <tr>\n",
       "      <th>...</th>\n",
       "      <td>...</td>\n",
       "      <td>...</td>\n",
       "    </tr>\n",
       "    <tr>\n",
       "      <th>177</th>\n",
       "      <td>Product72</td>\n",
       "      <td>Category2</td>\n",
       "    </tr>\n",
       "    <tr>\n",
       "      <th>178</th>\n",
       "      <td>Product49</td>\n",
       "      <td>Category2</td>\n",
       "    </tr>\n",
       "    <tr>\n",
       "      <th>179</th>\n",
       "      <td>Product50</td>\n",
       "      <td>Category2</td>\n",
       "    </tr>\n",
       "    <tr>\n",
       "      <th>180</th>\n",
       "      <td>Product51</td>\n",
       "      <td>Category2</td>\n",
       "    </tr>\n",
       "    <tr>\n",
       "      <th>181</th>\n",
       "      <td>Product34</td>\n",
       "      <td>Category2</td>\n",
       "    </tr>\n",
       "  </tbody>\n",
       "</table>\n",
       "<p>182 rows × 2 columns</p>\n",
       "</div>"
      ],
      "text/plain": [
       "        Product   Category\n",
       "0    Product153  Category3\n",
       "1    Product167  Category3\n",
       "2    Product163  Category3\n",
       "3    Product139  Category3\n",
       "4    Product170  Category3\n",
       "..          ...        ...\n",
       "177   Product72  Category2\n",
       "178   Product49  Category2\n",
       "179   Product50  Category2\n",
       "180   Product51  Category2\n",
       "181   Product34  Category2\n",
       "\n",
       "[182 rows x 2 columns]"
      ]
     },
     "execution_count": 3,
     "metadata": {},
     "output_type": "execute_result"
    }
   ],
   "source": [
    "prod"
   ]
  },
  {
   "cell_type": "code",
   "execution_count": 4,
   "metadata": {
    "id": "TyOLsJuaJqhH",
    "outputId": "f99dcb38-da72-4e67-92dc-fc4d3ba62f1c"
   },
   "outputs": [
    {
     "data": {
      "text/html": [
       "<div>\n",
       "<style scoped>\n",
       "    .dataframe tbody tr th:only-of-type {\n",
       "        vertical-align: middle;\n",
       "    }\n",
       "\n",
       "    .dataframe tbody tr th {\n",
       "        vertical-align: top;\n",
       "    }\n",
       "\n",
       "    .dataframe thead th {\n",
       "        text-align: right;\n",
       "    }\n",
       "</style>\n",
       "<table border=\"1\" class=\"dataframe\">\n",
       "  <thead>\n",
       "    <tr style=\"text-align: right;\">\n",
       "      <th></th>\n",
       "      <th>Week</th>\n",
       "      <th>PromoID</th>\n",
       "    </tr>\n",
       "  </thead>\n",
       "  <tbody>\n",
       "    <tr>\n",
       "      <th>0</th>\n",
       "      <td>2015-01-05</td>\n",
       "      <td>No Promo</td>\n",
       "    </tr>\n",
       "    <tr>\n",
       "      <th>1</th>\n",
       "      <td>2015-01-12</td>\n",
       "      <td>No Promo</td>\n",
       "    </tr>\n",
       "    <tr>\n",
       "      <th>2</th>\n",
       "      <td>2015-01-19</td>\n",
       "      <td>No Promo</td>\n",
       "    </tr>\n",
       "    <tr>\n",
       "      <th>3</th>\n",
       "      <td>2015-01-26</td>\n",
       "      <td>No Promo</td>\n",
       "    </tr>\n",
       "    <tr>\n",
       "      <th>4</th>\n",
       "      <td>2015-02-02</td>\n",
       "      <td>No Promo</td>\n",
       "    </tr>\n",
       "    <tr>\n",
       "      <th>...</th>\n",
       "      <td>...</td>\n",
       "      <td>...</td>\n",
       "    </tr>\n",
       "    <tr>\n",
       "      <th>116</th>\n",
       "      <td>2017-03-27</td>\n",
       "      <td>No Promo</td>\n",
       "    </tr>\n",
       "    <tr>\n",
       "      <th>117</th>\n",
       "      <td>2017-04-03</td>\n",
       "      <td>No Promo</td>\n",
       "    </tr>\n",
       "    <tr>\n",
       "      <th>118</th>\n",
       "      <td>2017-04-10</td>\n",
       "      <td>No Promo</td>\n",
       "    </tr>\n",
       "    <tr>\n",
       "      <th>119</th>\n",
       "      <td>2017-04-17</td>\n",
       "      <td>No Promo</td>\n",
       "    </tr>\n",
       "    <tr>\n",
       "      <th>120</th>\n",
       "      <td>2017-04-24</td>\n",
       "      <td>No Promo</td>\n",
       "    </tr>\n",
       "  </tbody>\n",
       "</table>\n",
       "<p>121 rows × 2 columns</p>\n",
       "</div>"
      ],
      "text/plain": [
       "          Week   PromoID\n",
       "0   2015-01-05  No Promo\n",
       "1   2015-01-12  No Promo\n",
       "2   2015-01-19  No Promo\n",
       "3   2015-01-26  No Promo\n",
       "4   2015-02-02  No Promo\n",
       "..         ...       ...\n",
       "116 2017-03-27  No Promo\n",
       "117 2017-04-03  No Promo\n",
       "118 2017-04-10  No Promo\n",
       "119 2017-04-17  No Promo\n",
       "120 2017-04-24  No Promo\n",
       "\n",
       "[121 rows x 2 columns]"
      ]
     },
     "execution_count": 4,
     "metadata": {},
     "output_type": "execute_result"
    }
   ],
   "source": [
    "cal = pd.read_excel(\"Combined.xlsx\", sheet_name = \"Promo Calendar\")\n",
    "cal"
   ]
  },
  {
   "cell_type": "code",
   "execution_count": 6,
   "metadata": {
    "id": "6DUuPLp5JqhH",
    "outputId": "634b8cc8-19d5-442d-899f-904d72694dbc"
   },
   "outputs": [
    {
     "data": {
      "text/html": [
       "<div>\n",
       "<style scoped>\n",
       "    .dataframe tbody tr th:only-of-type {\n",
       "        vertical-align: middle;\n",
       "    }\n",
       "\n",
       "    .dataframe tbody tr th {\n",
       "        vertical-align: top;\n",
       "    }\n",
       "\n",
       "    .dataframe thead th {\n",
       "        text-align: right;\n",
       "    }\n",
       "</style>\n",
       "<table border=\"1\" class=\"dataframe\">\n",
       "  <thead>\n",
       "    <tr style=\"text-align: right;\">\n",
       "      <th></th>\n",
       "      <th>datekey</th>\n",
       "      <th>Product</th>\n",
       "      <th>Store</th>\n",
       "      <th>Quantity</th>\n",
       "    </tr>\n",
       "  </thead>\n",
       "  <tbody>\n",
       "    <tr>\n",
       "      <th>0</th>\n",
       "      <td>20150101</td>\n",
       "      <td>Product103</td>\n",
       "      <td>Store25</td>\n",
       "      <td>1</td>\n",
       "    </tr>\n",
       "    <tr>\n",
       "      <th>1</th>\n",
       "      <td>20150101</td>\n",
       "      <td>Product103</td>\n",
       "      <td>Store4</td>\n",
       "      <td>1</td>\n",
       "    </tr>\n",
       "    <tr>\n",
       "      <th>2</th>\n",
       "      <td>20150101</td>\n",
       "      <td>Product105</td>\n",
       "      <td>Store12</td>\n",
       "      <td>-1</td>\n",
       "    </tr>\n",
       "    <tr>\n",
       "      <th>3</th>\n",
       "      <td>20150101</td>\n",
       "      <td>Product105</td>\n",
       "      <td>Store2</td>\n",
       "      <td>1</td>\n",
       "    </tr>\n",
       "    <tr>\n",
       "      <th>4</th>\n",
       "      <td>20150101</td>\n",
       "      <td>Product105</td>\n",
       "      <td>Store25</td>\n",
       "      <td>1</td>\n",
       "    </tr>\n",
       "    <tr>\n",
       "      <th>...</th>\n",
       "      <td>...</td>\n",
       "      <td>...</td>\n",
       "      <td>...</td>\n",
       "      <td>...</td>\n",
       "    </tr>\n",
       "    <tr>\n",
       "      <th>793379</th>\n",
       "      <td>20161231</td>\n",
       "      <td>Product99</td>\n",
       "      <td>Store27</td>\n",
       "      <td>1</td>\n",
       "    </tr>\n",
       "    <tr>\n",
       "      <th>793380</th>\n",
       "      <td>20061231</td>\n",
       "      <td>Product99</td>\n",
       "      <td>Store27</td>\n",
       "      <td>-1</td>\n",
       "    </tr>\n",
       "    <tr>\n",
       "      <th>793381</th>\n",
       "      <td>20161231</td>\n",
       "      <td>Product99</td>\n",
       "      <td>Store28</td>\n",
       "      <td>-1</td>\n",
       "    </tr>\n",
       "    <tr>\n",
       "      <th>793382</th>\n",
       "      <td>20161231</td>\n",
       "      <td>Product99</td>\n",
       "      <td>Store5</td>\n",
       "      <td>1</td>\n",
       "    </tr>\n",
       "    <tr>\n",
       "      <th>793383</th>\n",
       "      <td>20161231</td>\n",
       "      <td>Product99</td>\n",
       "      <td>Store5</td>\n",
       "      <td>1</td>\n",
       "    </tr>\n",
       "  </tbody>\n",
       "</table>\n",
       "<p>793384 rows × 4 columns</p>\n",
       "</div>"
      ],
      "text/plain": [
       "         datekey     Product    Store  Quantity\n",
       "0       20150101  Product103  Store25         1\n",
       "1       20150101  Product103   Store4         1\n",
       "2       20150101  Product105  Store12        -1\n",
       "3       20150101  Product105   Store2         1\n",
       "4       20150101  Product105  Store25         1\n",
       "...          ...         ...      ...       ...\n",
       "793379  20161231   Product99  Store27         1\n",
       "793380  20061231   Product99  Store27        -1\n",
       "793381  20161231   Product99  Store28        -1\n",
       "793382  20161231   Product99   Store5         1\n",
       "793383  20161231   Product99   Store5         1\n",
       "\n",
       "[793384 rows x 4 columns]"
      ]
     },
     "execution_count": 6,
     "metadata": {},
     "output_type": "execute_result"
    }
   ],
   "source": [
    "sales = pd.read_excel(\"Combined.xlsx\", sheet_name = \"Sales_Data\")\n",
    "sales"
   ]
  },
  {
   "cell_type": "code",
   "execution_count": 7,
   "metadata": {
    "id": "y06fWnHuJqhH",
    "outputId": "e6454014-914e-4125-d86c-ddca0c8955ca"
   },
   "outputs": [
    {
     "data": {
      "text/html": [
       "<div>\n",
       "<style scoped>\n",
       "    .dataframe tbody tr th:only-of-type {\n",
       "        vertical-align: middle;\n",
       "    }\n",
       "\n",
       "    .dataframe tbody tr th {\n",
       "        vertical-align: top;\n",
       "    }\n",
       "\n",
       "    .dataframe thead th {\n",
       "        text-align: right;\n",
       "    }\n",
       "</style>\n",
       "<table border=\"1\" class=\"dataframe\">\n",
       "  <thead>\n",
       "    <tr style=\"text-align: right;\">\n",
       "      <th></th>\n",
       "      <th>Store</th>\n",
       "      <th>Geography</th>\n",
       "    </tr>\n",
       "  </thead>\n",
       "  <tbody>\n",
       "    <tr>\n",
       "      <th>0</th>\n",
       "      <td>Store13</td>\n",
       "      <td>SOUTH</td>\n",
       "    </tr>\n",
       "    <tr>\n",
       "      <th>1</th>\n",
       "      <td>Store20</td>\n",
       "      <td>NORTHEAST</td>\n",
       "    </tr>\n",
       "    <tr>\n",
       "      <th>2</th>\n",
       "      <td>Store22</td>\n",
       "      <td>NORTHEAST</td>\n",
       "    </tr>\n",
       "    <tr>\n",
       "      <th>3</th>\n",
       "      <td>Store23</td>\n",
       "      <td>MIDWEST</td>\n",
       "    </tr>\n",
       "    <tr>\n",
       "      <th>4</th>\n",
       "      <td>Store27</td>\n",
       "      <td>SOUTH</td>\n",
       "    </tr>\n",
       "    <tr>\n",
       "      <th>5</th>\n",
       "      <td>Store9</td>\n",
       "      <td>SOUTH</td>\n",
       "    </tr>\n",
       "    <tr>\n",
       "      <th>6</th>\n",
       "      <td>Store12</td>\n",
       "      <td>NORTHEAST</td>\n",
       "    </tr>\n",
       "    <tr>\n",
       "      <th>7</th>\n",
       "      <td>Store21</td>\n",
       "      <td>SOUTH</td>\n",
       "    </tr>\n",
       "    <tr>\n",
       "      <th>8</th>\n",
       "      <td>Store14</td>\n",
       "      <td>SOUTH</td>\n",
       "    </tr>\n",
       "    <tr>\n",
       "      <th>9</th>\n",
       "      <td>Store16</td>\n",
       "      <td>SOUTH</td>\n",
       "    </tr>\n",
       "    <tr>\n",
       "      <th>10</th>\n",
       "      <td>Store24</td>\n",
       "      <td>WEST</td>\n",
       "    </tr>\n",
       "    <tr>\n",
       "      <th>11</th>\n",
       "      <td>Store7</td>\n",
       "      <td>SOUTH</td>\n",
       "    </tr>\n",
       "    <tr>\n",
       "      <th>12</th>\n",
       "      <td>Store2</td>\n",
       "      <td>SOUTH</td>\n",
       "    </tr>\n",
       "    <tr>\n",
       "      <th>13</th>\n",
       "      <td>Store19</td>\n",
       "      <td>SOUTH</td>\n",
       "    </tr>\n",
       "    <tr>\n",
       "      <th>14</th>\n",
       "      <td>Store8</td>\n",
       "      <td>WEST</td>\n",
       "    </tr>\n",
       "    <tr>\n",
       "      <th>15</th>\n",
       "      <td>Store25</td>\n",
       "      <td>MIDWEST</td>\n",
       "    </tr>\n",
       "    <tr>\n",
       "      <th>16</th>\n",
       "      <td>Store15</td>\n",
       "      <td>MIDWEST</td>\n",
       "    </tr>\n",
       "    <tr>\n",
       "      <th>17</th>\n",
       "      <td>Store17</td>\n",
       "      <td>MIDWEST</td>\n",
       "    </tr>\n",
       "    <tr>\n",
       "      <th>18</th>\n",
       "      <td>Store28</td>\n",
       "      <td>MIDWEST</td>\n",
       "    </tr>\n",
       "    <tr>\n",
       "      <th>19</th>\n",
       "      <td>Store30</td>\n",
       "      <td>MIDWEST</td>\n",
       "    </tr>\n",
       "    <tr>\n",
       "      <th>20</th>\n",
       "      <td>Store5</td>\n",
       "      <td>SOUTH</td>\n",
       "    </tr>\n",
       "    <tr>\n",
       "      <th>21</th>\n",
       "      <td>Store26</td>\n",
       "      <td>WEST</td>\n",
       "    </tr>\n",
       "    <tr>\n",
       "      <th>22</th>\n",
       "      <td>Store6</td>\n",
       "      <td>WEST</td>\n",
       "    </tr>\n",
       "    <tr>\n",
       "      <th>23</th>\n",
       "      <td>Store11</td>\n",
       "      <td>NORTHEAST</td>\n",
       "    </tr>\n",
       "    <tr>\n",
       "      <th>24</th>\n",
       "      <td>Store4</td>\n",
       "      <td>MIDWEST</td>\n",
       "    </tr>\n",
       "    <tr>\n",
       "      <th>25</th>\n",
       "      <td>Store29</td>\n",
       "      <td>MIDWEST</td>\n",
       "    </tr>\n",
       "    <tr>\n",
       "      <th>26</th>\n",
       "      <td>Store18</td>\n",
       "      <td>SOUTH</td>\n",
       "    </tr>\n",
       "    <tr>\n",
       "      <th>27</th>\n",
       "      <td>Store10</td>\n",
       "      <td>NORTHEAST</td>\n",
       "    </tr>\n",
       "    <tr>\n",
       "      <th>28</th>\n",
       "      <td>Store1</td>\n",
       "      <td>MIDWEST</td>\n",
       "    </tr>\n",
       "    <tr>\n",
       "      <th>29</th>\n",
       "      <td>Store3</td>\n",
       "      <td>SOUTH</td>\n",
       "    </tr>\n",
       "  </tbody>\n",
       "</table>\n",
       "</div>"
      ],
      "text/plain": [
       "      Store  Geography\n",
       "0   Store13      SOUTH\n",
       "1   Store20  NORTHEAST\n",
       "2   Store22  NORTHEAST\n",
       "3   Store23    MIDWEST\n",
       "4   Store27      SOUTH\n",
       "5    Store9      SOUTH\n",
       "6   Store12  NORTHEAST\n",
       "7   Store21      SOUTH\n",
       "8   Store14      SOUTH\n",
       "9   Store16      SOUTH\n",
       "10  Store24       WEST\n",
       "11   Store7      SOUTH\n",
       "12   Store2      SOUTH\n",
       "13  Store19      SOUTH\n",
       "14   Store8       WEST\n",
       "15  Store25    MIDWEST\n",
       "16  Store15    MIDWEST\n",
       "17  Store17    MIDWEST\n",
       "18  Store28    MIDWEST\n",
       "19  Store30    MIDWEST\n",
       "20   Store5      SOUTH\n",
       "21  Store26       WEST\n",
       "22   Store6       WEST\n",
       "23  Store11  NORTHEAST\n",
       "24   Store4    MIDWEST\n",
       "25  Store29    MIDWEST\n",
       "26  Store18      SOUTH\n",
       "27  Store10  NORTHEAST\n",
       "28   Store1    MIDWEST\n",
       "29   Store3      SOUTH"
      ]
     },
     "execution_count": 7,
     "metadata": {},
     "output_type": "execute_result"
    }
   ],
   "source": [
    "store = pd.read_excel(\"Combined.xlsx\", sheet_name = \"Store Master\")\n",
    "store"
   ]
  },
  {
   "cell_type": "code",
   "execution_count": 8,
   "metadata": {
    "id": "vb5YA3qeJqhI",
    "outputId": "99edb9c5-0869-4a84-c762-576cb1d50c47"
   },
   "outputs": [
    {
     "name": "stdout",
     "output_type": "stream",
     "text": [
      "<class 'pandas.core.frame.DataFrame'>\n",
      "RangeIndex: 793384 entries, 0 to 793383\n",
      "Data columns (total 4 columns):\n",
      " #   Column    Non-Null Count   Dtype \n",
      "---  ------    --------------   ----- \n",
      " 0   datekey   793384 non-null  object\n",
      " 1   Product   793384 non-null  object\n",
      " 2   Store     793384 non-null  object\n",
      " 3   Quantity  793384 non-null  int64 \n",
      "dtypes: int64(1), object(3)\n",
      "memory usage: 24.2+ MB\n"
     ]
    }
   ],
   "source": [
    "sales.info()"
   ]
  },
  {
   "cell_type": "markdown",
   "metadata": {
    "id": "fI2PxxsuJqhI"
   },
   "source": [
    "### Changing data type for Date to required format of pandas for timeseries analysis"
   ]
  },
  {
   "cell_type": "code",
   "execution_count": 9,
   "metadata": {
    "id": "w8UpubcOJqhI",
    "outputId": "00190d99-9cf7-437d-d892-acaf2659b317"
   },
   "outputs": [
    {
     "data": {
      "text/plain": [
       "0        2015-01-01\n",
       "1        2015-01-01\n",
       "2        2015-01-01\n",
       "3        2015-01-01\n",
       "4        2015-01-01\n",
       "            ...    \n",
       "793379   2016-12-31\n",
       "793380   2006-12-31\n",
       "793381   2016-12-31\n",
       "793382   2016-12-31\n",
       "793383   2016-12-31\n",
       "Name: datekey, Length: 793384, dtype: datetime64[ns]"
      ]
     },
     "execution_count": 9,
     "metadata": {},
     "output_type": "execute_result"
    }
   ],
   "source": [
    "sales['datekey'] = pd.to_datetime(sales['datekey'], format='%Y%m%d', errors='coerce')\n",
    "sales['datekey']"
   ]
  },
  {
   "cell_type": "markdown",
   "metadata": {
    "id": "CNJM2MENJqhI"
   },
   "source": [
    "### Summary of Dataset"
   ]
  },
  {
   "cell_type": "code",
   "execution_count": 10,
   "metadata": {
    "id": "GSqx__y0JqhI",
    "outputId": "1aa52a00-517b-4c94-c7c5-32744afbf2c4"
   },
   "outputs": [
    {
     "name": "stdout",
     "output_type": "stream",
     "text": [
      "<class 'pandas.core.frame.DataFrame'>\n",
      "RangeIndex: 793384 entries, 0 to 793383\n",
      "Data columns (total 4 columns):\n",
      " #   Column    Non-Null Count   Dtype         \n",
      "---  ------    --------------   -----         \n",
      " 0   datekey   793380 non-null  datetime64[ns]\n",
      " 1   Product   793384 non-null  object        \n",
      " 2   Store     793384 non-null  object        \n",
      " 3   Quantity  793384 non-null  int64         \n",
      "dtypes: datetime64[ns](1), int64(1), object(2)\n",
      "memory usage: 24.2+ MB\n"
     ]
    }
   ],
   "source": [
    "sales.info()"
   ]
  },
  {
   "cell_type": "code",
   "execution_count": 11,
   "metadata": {
    "id": "uw79mSoPJqhJ",
    "outputId": "b4a8338a-cf83-480b-92bf-40e074576b8e"
   },
   "outputs": [
    {
     "name": "stdout",
     "output_type": "stream",
     "text": [
      "<class 'pandas.core.frame.DataFrame'>\n",
      "RangeIndex: 182 entries, 0 to 181\n",
      "Data columns (total 2 columns):\n",
      " #   Column    Non-Null Count  Dtype \n",
      "---  ------    --------------  ----- \n",
      " 0   Product   182 non-null    object\n",
      " 1   Category  182 non-null    object\n",
      "dtypes: object(2)\n",
      "memory usage: 3.0+ KB\n"
     ]
    }
   ],
   "source": [
    "prod.info()"
   ]
  },
  {
   "cell_type": "code",
   "execution_count": 12,
   "metadata": {
    "id": "8fp94HRLJqhJ",
    "outputId": "0c57f0ba-3012-49a0-984d-388889dbc89c"
   },
   "outputs": [
    {
     "name": "stdout",
     "output_type": "stream",
     "text": [
      "<class 'pandas.core.frame.DataFrame'>\n",
      "RangeIndex: 30 entries, 0 to 29\n",
      "Data columns (total 2 columns):\n",
      " #   Column     Non-Null Count  Dtype \n",
      "---  ------     --------------  ----- \n",
      " 0   Store      30 non-null     object\n",
      " 1   Geography  30 non-null     object\n",
      "dtypes: object(2)\n",
      "memory usage: 608.0+ bytes\n"
     ]
    }
   ],
   "source": [
    "store.info()"
   ]
  },
  {
   "cell_type": "code",
   "execution_count": 13,
   "metadata": {
    "id": "9BTblA9YJqhJ",
    "outputId": "b7343b1f-afdc-4a5c-854b-71a1222e8326"
   },
   "outputs": [
    {
     "name": "stdout",
     "output_type": "stream",
     "text": [
      "<class 'pandas.core.frame.DataFrame'>\n",
      "RangeIndex: 121 entries, 0 to 120\n",
      "Data columns (total 2 columns):\n",
      " #   Column   Non-Null Count  Dtype         \n",
      "---  ------   --------------  -----         \n",
      " 0   Week     121 non-null    datetime64[ns]\n",
      " 1   PromoID  121 non-null    object        \n",
      "dtypes: datetime64[ns](1), object(1)\n",
      "memory usage: 2.0+ KB\n"
     ]
    }
   ],
   "source": [
    "cal.info()"
   ]
  },
  {
   "cell_type": "markdown",
   "metadata": {
    "id": "kCGGKBmEJqhJ"
   },
   "source": [
    "### Treating null and outliers"
   ]
  },
  {
   "cell_type": "code",
   "execution_count": 14,
   "metadata": {
    "id": "alFYM6UBJqhJ",
    "outputId": "9d6e55db-4f5b-4a35-b26a-00a2cffcc9ba"
   },
   "outputs": [
    {
     "data": {
      "text/plain": [
       "<Axes: xlabel='Quantity', ylabel='Density'>"
      ]
     },
     "execution_count": 14,
     "metadata": {},
     "output_type": "execute_result"
    },
    {
     "data": {
      "image/png": "[encoded data removed]",
      "text/plain": [
       "<Figure size 640x480 with 1 Axes>"
      ]
     },
     "metadata": {},
     "output_type": "display_data"
    }
   ],
   "source": [
    "sns.distplot(sales['Quantity'])"
   ]
  },
  {
   "cell_type": "code",
   "execution_count": 15,
   "metadata": {
    "id": "-NQBYRRVJqhJ",
    "outputId": "ad5cb019-9407-4e85-dc07-6ab47e097f5b"
   },
   "outputs": [
    {
     "data": {
      "text/plain": [
       "<Axes: >"
      ]
     },
     "execution_count": 15,
     "metadata": {},
     "output_type": "execute_result"
    },
    {
     "data": {
      "image/png": "[encoded data removed]",
      "text/plain": [
       "<Figure size 500x1000 with 1 Axes>"
      ]
     },
     "metadata": {},
     "output_type": "display_data"
    }
   ],
   "source": [
    "plt.figure(figsize = (5,10))\n",
    "\n",
    "sns.boxplot(data = sales['Quantity'])"
   ]
  },
  {
   "cell_type": "code",
   "execution_count": 17,
   "metadata": {},
   "outputs": [
    {
     "data": {
      "text/html": [
       "<div>\n",
       "<style scoped>\n",
       "    .dataframe tbody tr th:only-of-type {\n",
       "        vertical-align: middle;\n",
       "    }\n",
       "\n",
       "    .dataframe tbody tr th {\n",
       "        vertical-align: top;\n",
       "    }\n",
       "\n",
       "    .dataframe thead th {\n",
       "        text-align: right;\n",
       "    }\n",
       "</style>\n",
       "<table border=\"1\" class=\"dataframe\">\n",
       "  <thead>\n",
       "    <tr style=\"text-align: right;\">\n",
       "      <th></th>\n",
       "      <th>Quantity</th>\n",
       "    </tr>\n",
       "  </thead>\n",
       "  <tbody>\n",
       "    <tr>\n",
       "      <th>count</th>\n",
       "      <td>7.933840e+05</td>\n",
       "    </tr>\n",
       "    <tr>\n",
       "      <th>mean</th>\n",
       "      <td>5.239488e+00</td>\n",
       "    </tr>\n",
       "    <tr>\n",
       "      <th>std</th>\n",
       "      <td>2.175663e+03</td>\n",
       "    </tr>\n",
       "    <tr>\n",
       "      <th>min</th>\n",
       "      <td>-8.100000e+03</td>\n",
       "    </tr>\n",
       "    <tr>\n",
       "      <th>25%</th>\n",
       "      <td>1.000000e+00</td>\n",
       "    </tr>\n",
       "    <tr>\n",
       "      <th>50%</th>\n",
       "      <td>1.000000e+00</td>\n",
       "    </tr>\n",
       "    <tr>\n",
       "      <th>75%</th>\n",
       "      <td>1.000000e+00</td>\n",
       "    </tr>\n",
       "    <tr>\n",
       "      <th>max</th>\n",
       "      <td>1.500000e+06</td>\n",
       "    </tr>\n",
       "  </tbody>\n",
       "</table>\n",
       "</div>"
      ],
      "text/plain": [
       "           Quantity\n",
       "count  7.933840e+05\n",
       "mean   5.239488e+00\n",
       "std    2.175663e+03\n",
       "min   -8.100000e+03\n",
       "25%    1.000000e+00\n",
       "50%    1.000000e+00\n",
       "75%    1.000000e+00\n",
       "max    1.500000e+06"
      ]
     },
     "execution_count": 17,
     "metadata": {},
     "output_type": "execute_result"
    }
   ],
   "source": [
    "sales.describe()"
   ]
  },
  {
   "cell_type": "markdown",
   "metadata": {
    "id": "eAC20L5AJqhJ"
   },
   "source": [
    "#### Note: As you can see, outliers are way too much out of the range. Even if we consider the IQR method to handle the outliers of the Quantity in the sales dataset, Q3-Q1 gives IQR=0. With such a method, the information in the Quantity data will change drastically, so handling outliers with the IQR method is not a good decision to go with.\n",
    "\n",
    "## Let's see the Z-Score method to handle outliers."
   ]
  },
  {
   "cell_type": "code",
   "execution_count": 18,
   "metadata": {
    "id": "R4yIUEZyJqhK"
   },
   "outputs": [],
   "source": [
    "from scipy import stats"
   ]
  },
  {
   "cell_type": "code",
   "execution_count": 19,
   "metadata": {
    "id": "_k2n4huMJqhK"
   },
   "outputs": [],
   "source": [
    "data = np.array(sales['Quantity'])"
   ]
  },
  {
   "cell_type": "code",
   "execution_count": 20,
   "metadata": {
    "id": "pfB5a7quJqhK"
   },
   "outputs": [],
   "source": [
    "z_scores = np.abs(stats.zscore(data))"
   ]
  },
  {
   "cell_type": "code",
   "execution_count": 21,
   "metadata": {
    "id": "qqzHxeUmJqhK"
   },
   "outputs": [],
   "source": [
    "threshold = 1"
   ]
  },
  {
   "cell_type": "code",
   "execution_count": 22,
   "metadata": {
    "id": "pDLk_A-RJqhK"
   },
   "outputs": [],
   "source": [
    "outlier_indices = np.where(z_scores > threshold)"
   ]
  },
  {
   "cell_type": "code",
   "execution_count": 23,
   "metadata": {
    "id": "XKXCeQbhJqhK"
   },
   "outputs": [],
   "source": [
    "outliers = data[outlier_indices]"
   ]
  },
  {
   "cell_type": "code",
   "execution_count": 24,
   "metadata": {
    "id": "kk5_kjohJqhK",
    "outputId": "7900c027-1271-4b7f-eca3-5a119da8235c"
   },
   "outputs": [
    {
     "name": "stdout",
     "output_type": "stream",
     "text": [
      "Outlier Values: [ 941266 1500000   97117  130000   13000   -7500  770000   -8100]\n",
      "Outlier Indices: [  5862  58642  99998 370008 370071 370491 370689 372944]\n"
     ]
    }
   ],
   "source": [
    "print(\"Outlier Values:\", outliers)\n",
    "print(\"Outlier Indices:\", outlier_indices[0])"
   ]
  },
  {
   "cell_type": "markdown",
   "metadata": {
    "id": "ChBauyiCJqhK"
   },
   "source": [
    "### Here we will replace the outliers by median and not using the mean of the quantity, as the mean of the column will be highly affected by outliers present in our dataset."
   ]
  },
  {
   "cell_type": "code",
   "execution_count": 25,
   "metadata": {
    "id": "dENWiWDmJqhK"
   },
   "outputs": [],
   "source": [
    "med = np.median(sales['Quantity'])"
   ]
  },
  {
   "cell_type": "code",
   "execution_count": 26,
   "metadata": {
    "id": "zClkFXk6JqhK"
   },
   "outputs": [],
   "source": [
    "data[outlier_indices] = med"
   ]
  },
  {
   "cell_type": "code",
   "execution_count": 27,
   "metadata": {
    "id": "PKzqlomfJqhK",
    "outputId": "ed38bbeb-799c-4324-a8aa-da4938348fdd"
   },
   "outputs": [
    {
     "name": "stdout",
     "output_type": "stream",
     "text": [
      "Data with Outliers Replaced: [ 1  1 -1 ... -1  1  1]\n"
     ]
    }
   ],
   "source": [
    "print(\"Data with Outliers Replaced:\", data)"
   ]
  },
  {
   "cell_type": "code",
   "execution_count": 28,
   "metadata": {
    "id": "GY6I-vYeJqhL"
   },
   "outputs": [],
   "source": [
    "sales['Quantity'] = data"
   ]
  },
  {
   "cell_type": "code",
   "execution_count": 29,
   "metadata": {
    "id": "TPu6e409JqhL",
    "outputId": "882cf8e5-ad6b-4b14-8ed5-8e2648e64a15"
   },
   "outputs": [
    {
     "name": "stdout",
     "output_type": "stream",
     "text": [
      "<class 'pandas.core.frame.DataFrame'>\n",
      "RangeIndex: 793384 entries, 0 to 793383\n",
      "Data columns (total 4 columns):\n",
      " #   Column    Non-Null Count   Dtype         \n",
      "---  ------    --------------   -----         \n",
      " 0   datekey   793380 non-null  datetime64[ns]\n",
      " 1   Product   793384 non-null  object        \n",
      " 2   Store     793384 non-null  object        \n",
      " 3   Quantity  793384 non-null  int64         \n",
      "dtypes: datetime64[ns](1), int64(1), object(2)\n",
      "memory usage: 24.2+ MB\n"
     ]
    }
   ],
   "source": [
    "sales.info()"
   ]
  },
  {
   "cell_type": "code",
   "execution_count": 30,
   "metadata": {
    "id": "nk6VGr5zJqhL",
    "outputId": "3def1e58-84f8-48e0-a245-fa1072ff91a9"
   },
   "outputs": [
    {
     "data": {
      "text/plain": [
       "(793384, 4)"
      ]
     },
     "execution_count": 30,
     "metadata": {},
     "output_type": "execute_result"
    }
   ],
   "source": [
    "sales.shape"
   ]
  },
  {
   "cell_type": "markdown",
   "metadata": {},
   "source": [
    "#### Deleting Null data points"
   ]
  },
  {
   "cell_type": "code",
   "execution_count": 31,
   "metadata": {
    "id": "vkoAUIlzJqhL",
    "outputId": "33278870-f7ef-4f61-fb00-457626c75c6e"
   },
   "outputs": [
    {
     "data": {
      "text/plain": [
       "Int64Index([11048, 287052, 289366, 641161], dtype='int64')"
      ]
     },
     "execution_count": 31,
     "metadata": {},
     "output_type": "execute_result"
    }
   ],
   "source": [
    "nullindex = (sales[sales['datekey'].isnull() == True]).index\n",
    "nullindex"
   ]
  },
  {
   "cell_type": "code",
   "execution_count": 32,
   "metadata": {
    "id": "SvhiXFmFJqhL"
   },
   "outputs": [],
   "source": [
    "sales.dropna(inplace=True)"
   ]
  },
  {
   "cell_type": "code",
   "execution_count": 33,
   "metadata": {
    "id": "pWWV5g6YJqhQ",
    "outputId": "17712cfe-c8f2-4046-fb6d-16b1b67cc7ce"
   },
   "outputs": [
    {
     "name": "stdout",
     "output_type": "stream",
     "text": [
      "<class 'pandas.core.frame.DataFrame'>\n",
      "Int64Index: 793380 entries, 0 to 793383\n",
      "Data columns (total 4 columns):\n",
      " #   Column    Non-Null Count   Dtype         \n",
      "---  ------    --------------   -----         \n",
      " 0   datekey   793380 non-null  datetime64[ns]\n",
      " 1   Product   793380 non-null  object        \n",
      " 2   Store     793380 non-null  object        \n",
      " 3   Quantity  793380 non-null  int64         \n",
      "dtypes: datetime64[ns](1), int64(1), object(2)\n",
      "memory usage: 30.3+ MB\n"
     ]
    }
   ],
   "source": [
    "sales.info()"
   ]
  },
  {
   "cell_type": "markdown",
   "metadata": {
    "id": "RZexqJo5JqhQ"
   },
   "source": [
    "### Joining all the dataset in a one table for EDA"
   ]
  },
  {
   "cell_type": "code",
   "execution_count": 34,
   "metadata": {
    "id": "kM9EENb-JqhR",
    "outputId": "7cdce50a-51d3-45d3-c5f8-d03373641496"
   },
   "outputs": [
    {
     "data": {
      "text/html": [
       "<div>\n",
       "<style scoped>\n",
       "    .dataframe tbody tr th:only-of-type {\n",
       "        vertical-align: middle;\n",
       "    }\n",
       "\n",
       "    .dataframe tbody tr th {\n",
       "        vertical-align: top;\n",
       "    }\n",
       "\n",
       "    .dataframe thead th {\n",
       "        text-align: right;\n",
       "    }\n",
       "</style>\n",
       "<table border=\"1\" class=\"dataframe\">\n",
       "  <thead>\n",
       "    <tr style=\"text-align: right;\">\n",
       "      <th></th>\n",
       "      <th>datekey</th>\n",
       "      <th>Product</th>\n",
       "      <th>Store</th>\n",
       "      <th>Quantity</th>\n",
       "      <th>Geography</th>\n",
       "    </tr>\n",
       "  </thead>\n",
       "  <tbody>\n",
       "    <tr>\n",
       "      <th>0</th>\n",
       "      <td>2015-01-01</td>\n",
       "      <td>Product103</td>\n",
       "      <td>Store25</td>\n",
       "      <td>1</td>\n",
       "      <td>MIDWEST</td>\n",
       "    </tr>\n",
       "    <tr>\n",
       "      <th>1</th>\n",
       "      <td>2015-01-01</td>\n",
       "      <td>Product103</td>\n",
       "      <td>Store4</td>\n",
       "      <td>1</td>\n",
       "      <td>MIDWEST</td>\n",
       "    </tr>\n",
       "    <tr>\n",
       "      <th>2</th>\n",
       "      <td>2015-01-01</td>\n",
       "      <td>Product105</td>\n",
       "      <td>Store12</td>\n",
       "      <td>-1</td>\n",
       "      <td>NORTHEAST</td>\n",
       "    </tr>\n",
       "    <tr>\n",
       "      <th>3</th>\n",
       "      <td>2015-01-01</td>\n",
       "      <td>Product105</td>\n",
       "      <td>Store2</td>\n",
       "      <td>1</td>\n",
       "      <td>SOUTH</td>\n",
       "    </tr>\n",
       "    <tr>\n",
       "      <th>4</th>\n",
       "      <td>2015-01-01</td>\n",
       "      <td>Product105</td>\n",
       "      <td>Store25</td>\n",
       "      <td>1</td>\n",
       "      <td>MIDWEST</td>\n",
       "    </tr>\n",
       "    <tr>\n",
       "      <th>...</th>\n",
       "      <td>...</td>\n",
       "      <td>...</td>\n",
       "      <td>...</td>\n",
       "      <td>...</td>\n",
       "      <td>...</td>\n",
       "    </tr>\n",
       "    <tr>\n",
       "      <th>793375</th>\n",
       "      <td>2016-12-31</td>\n",
       "      <td>Product99</td>\n",
       "      <td>Store27</td>\n",
       "      <td>1</td>\n",
       "      <td>SOUTH</td>\n",
       "    </tr>\n",
       "    <tr>\n",
       "      <th>793376</th>\n",
       "      <td>2006-12-31</td>\n",
       "      <td>Product99</td>\n",
       "      <td>Store27</td>\n",
       "      <td>-1</td>\n",
       "      <td>SOUTH</td>\n",
       "    </tr>\n",
       "    <tr>\n",
       "      <th>793377</th>\n",
       "      <td>2016-12-31</td>\n",
       "      <td>Product99</td>\n",
       "      <td>Store28</td>\n",
       "      <td>-1</td>\n",
       "      <td>MIDWEST</td>\n",
       "    </tr>\n",
       "    <tr>\n",
       "      <th>793378</th>\n",
       "      <td>2016-12-31</td>\n",
       "      <td>Product99</td>\n",
       "      <td>Store5</td>\n",
       "      <td>1</td>\n",
       "      <td>SOUTH</td>\n",
       "    </tr>\n",
       "    <tr>\n",
       "      <th>793379</th>\n",
       "      <td>2016-12-31</td>\n",
       "      <td>Product99</td>\n",
       "      <td>Store5</td>\n",
       "      <td>1</td>\n",
       "      <td>SOUTH</td>\n",
       "    </tr>\n",
       "  </tbody>\n",
       "</table>\n",
       "<p>793380 rows × 5 columns</p>\n",
       "</div>"
      ],
      "text/plain": [
       "          datekey     Product    Store  Quantity  Geography\n",
       "0      2015-01-01  Product103  Store25         1    MIDWEST\n",
       "1      2015-01-01  Product103   Store4         1    MIDWEST\n",
       "2      2015-01-01  Product105  Store12        -1  NORTHEAST\n",
       "3      2015-01-01  Product105   Store2         1      SOUTH\n",
       "4      2015-01-01  Product105  Store25         1    MIDWEST\n",
       "...           ...         ...      ...       ...        ...\n",
       "793375 2016-12-31   Product99  Store27         1      SOUTH\n",
       "793376 2006-12-31   Product99  Store27        -1      SOUTH\n",
       "793377 2016-12-31   Product99  Store28        -1    MIDWEST\n",
       "793378 2016-12-31   Product99   Store5         1      SOUTH\n",
       "793379 2016-12-31   Product99   Store5         1      SOUTH\n",
       "\n",
       "[793380 rows x 5 columns]"
      ]
     },
     "execution_count": 34,
     "metadata": {},
     "output_type": "execute_result"
    }
   ],
   "source": [
    "all_data = sales.merge(store, on = 'Store', how = 'left')\n",
    "all_data"
   ]
  },
  {
   "cell_type": "code",
   "execution_count": 35,
   "metadata": {
    "id": "7yt98wCJJqhR",
    "outputId": "aab850a7-d456-4af9-e6f8-52ebaf4e1810"
   },
   "outputs": [
    {
     "data": {
      "text/html": [
       "<div>\n",
       "<style scoped>\n",
       "    .dataframe tbody tr th:only-of-type {\n",
       "        vertical-align: middle;\n",
       "    }\n",
       "\n",
       "    .dataframe tbody tr th {\n",
       "        vertical-align: top;\n",
       "    }\n",
       "\n",
       "    .dataframe thead th {\n",
       "        text-align: right;\n",
       "    }\n",
       "</style>\n",
       "<table border=\"1\" class=\"dataframe\">\n",
       "  <thead>\n",
       "    <tr style=\"text-align: right;\">\n",
       "      <th></th>\n",
       "      <th>datekey</th>\n",
       "      <th>Product</th>\n",
       "      <th>Store</th>\n",
       "      <th>Quantity</th>\n",
       "      <th>Geography</th>\n",
       "      <th>Category</th>\n",
       "    </tr>\n",
       "  </thead>\n",
       "  <tbody>\n",
       "    <tr>\n",
       "      <th>0</th>\n",
       "      <td>2015-01-01</td>\n",
       "      <td>Product103</td>\n",
       "      <td>Store25</td>\n",
       "      <td>1</td>\n",
       "      <td>MIDWEST</td>\n",
       "      <td>Category3</td>\n",
       "    </tr>\n",
       "    <tr>\n",
       "      <th>1</th>\n",
       "      <td>2015-01-01</td>\n",
       "      <td>Product103</td>\n",
       "      <td>Store4</td>\n",
       "      <td>1</td>\n",
       "      <td>MIDWEST</td>\n",
       "      <td>Category3</td>\n",
       "    </tr>\n",
       "    <tr>\n",
       "      <th>2</th>\n",
       "      <td>2015-01-01</td>\n",
       "      <td>Product105</td>\n",
       "      <td>Store12</td>\n",
       "      <td>-1</td>\n",
       "      <td>NORTHEAST</td>\n",
       "      <td>Category3</td>\n",
       "    </tr>\n",
       "    <tr>\n",
       "      <th>3</th>\n",
       "      <td>2015-01-01</td>\n",
       "      <td>Product105</td>\n",
       "      <td>Store2</td>\n",
       "      <td>1</td>\n",
       "      <td>SOUTH</td>\n",
       "      <td>Category3</td>\n",
       "    </tr>\n",
       "    <tr>\n",
       "      <th>4</th>\n",
       "      <td>2015-01-01</td>\n",
       "      <td>Product105</td>\n",
       "      <td>Store25</td>\n",
       "      <td>1</td>\n",
       "      <td>MIDWEST</td>\n",
       "      <td>Category3</td>\n",
       "    </tr>\n",
       "    <tr>\n",
       "      <th>...</th>\n",
       "      <td>...</td>\n",
       "      <td>...</td>\n",
       "      <td>...</td>\n",
       "      <td>...</td>\n",
       "      <td>...</td>\n",
       "      <td>...</td>\n",
       "    </tr>\n",
       "    <tr>\n",
       "      <th>793375</th>\n",
       "      <td>2016-12-31</td>\n",
       "      <td>Product99</td>\n",
       "      <td>Store27</td>\n",
       "      <td>1</td>\n",
       "      <td>SOUTH</td>\n",
       "      <td>Category3</td>\n",
       "    </tr>\n",
       "    <tr>\n",
       "      <th>793376</th>\n",
       "      <td>2006-12-31</td>\n",
       "      <td>Product99</td>\n",
       "      <td>Store27</td>\n",
       "      <td>-1</td>\n",
       "      <td>SOUTH</td>\n",
       "      <td>Category3</td>\n",
       "    </tr>\n",
       "    <tr>\n",
       "      <th>793377</th>\n",
       "      <td>2016-12-31</td>\n",
       "      <td>Product99</td>\n",
       "      <td>Store28</td>\n",
       "      <td>-1</td>\n",
       "      <td>MIDWEST</td>\n",
       "      <td>Category3</td>\n",
       "    </tr>\n",
       "    <tr>\n",
       "      <th>793378</th>\n",
       "      <td>2016-12-31</td>\n",
       "      <td>Product99</td>\n",
       "      <td>Store5</td>\n",
       "      <td>1</td>\n",
       "      <td>SOUTH</td>\n",
       "      <td>Category3</td>\n",
       "    </tr>\n",
       "    <tr>\n",
       "      <th>793379</th>\n",
       "      <td>2016-12-31</td>\n",
       "      <td>Product99</td>\n",
       "      <td>Store5</td>\n",
       "      <td>1</td>\n",
       "      <td>SOUTH</td>\n",
       "      <td>Category3</td>\n",
       "    </tr>\n",
       "  </tbody>\n",
       "</table>\n",
       "<p>793380 rows × 6 columns</p>\n",
       "</div>"
      ],
      "text/plain": [
       "          datekey     Product    Store  Quantity  Geography   Category\n",
       "0      2015-01-01  Product103  Store25         1    MIDWEST  Category3\n",
       "1      2015-01-01  Product103   Store4         1    MIDWEST  Category3\n",
       "2      2015-01-01  Product105  Store12        -1  NORTHEAST  Category3\n",
       "3      2015-01-01  Product105   Store2         1      SOUTH  Category3\n",
       "4      2015-01-01  Product105  Store25         1    MIDWEST  Category3\n",
       "...           ...         ...      ...       ...        ...        ...\n",
       "793375 2016-12-31   Product99  Store27         1      SOUTH  Category3\n",
       "793376 2006-12-31   Product99  Store27        -1      SOUTH  Category3\n",
       "793377 2016-12-31   Product99  Store28        -1    MIDWEST  Category3\n",
       "793378 2016-12-31   Product99   Store5         1      SOUTH  Category3\n",
       "793379 2016-12-31   Product99   Store5         1      SOUTH  Category3\n",
       "\n",
       "[793380 rows x 6 columns]"
      ]
     },
     "execution_count": 35,
     "metadata": {},
     "output_type": "execute_result"
    }
   ],
   "source": [
    "all_data = all_data.merge(prod, on = \"Product\", how = \"left\")\n",
    "all_data"
   ]
  },
  {
   "cell_type": "code",
   "execution_count": 36,
   "metadata": {
    "id": "DexJwd8OJqhR"
   },
   "outputs": [],
   "source": [
    "conditions = [\n",
    "    (all_data['datekey'] >= '2015-02-09') & (all_data['datekey'] <= '2015-02-15'),\n",
    "    (all_data['datekey'] >= '2015-03-16') & (all_data['datekey'] <= '2015-03-22'),\n",
    "    (all_data['datekey'] >= '2015-05-04') & (all_data['datekey'] <= '2015-05-10'),\n",
    "    (all_data[\"datekey\"] >= '2015-06-01') & (all_data[\"datekey\"] <= '2015-06-14'),\n",
    "    (all_data[\"datekey\"] >= '2015-06-29') & (all_data[\"datekey\"] <= '2015-07-12'),\n",
    "    (all_data[\"datekey\"] >= '2015-09-14') & (all_data[\"datekey\"] <= '2015-09-20'),\n",
    "    (all_data[\"datekey\"] >= '2015-09-28') & (all_data[\"datekey\"] <= '2015-10-18'),\n",
    "    (all_data[\"datekey\"] >= '2015-12-21') & (all_data[\"datekey\"] <= '2016-01-03'),\n",
    "    (all_data[\"datekey\"] >= '2016-02-08') & (all_data[\"datekey\"] <= '2016-02-14'),\n",
    "    (all_data[\"datekey\"] >= '2016-03-28') & (all_data[\"datekey\"] <= '2016-04-03'),\n",
    "    (all_data[\"datekey\"] >= '2016-05-02') & (all_data[\"datekey\"] <= '2016-05-08'),\n",
    "    (all_data[\"datekey\"] >= '2016-06-06') & (all_data[\"datekey\"] <= '2016-06-19'),\n",
    "    (all_data[\"datekey\"] >= '2016-07-04') & (all_data[\"datekey\"] <= '2016-07-17'),\n",
    "    (all_data[\"datekey\"] >= '2016-08-15') & (all_data[\"datekey\"] <= '2016-08-28'),\n",
    "    (all_data[\"datekey\"] >= '2016-09-12') & (all_data[\"datekey\"] <= '2016-09-18'),\n",
    "    (all_data[\"datekey\"] >= '2016-10-03') & (all_data[\"datekey\"] <= '2016-10-23'),\n",
    "    (all_data[\"datekey\"] >= '2016-12-26') & (all_data[\"datekey\"] <= '2016-12-31')\n",
    "]\n",
    "\n",
    "promo_values = ['Promo10', 'Promo5', 'Promo1', 'Promo2', 'Promo3', 'Promo11', 'Promo3', 'Promo4', 'Promo10', 'Promo5',\n",
    "               'Promo1', 'Promo2', 'Promo3', 'Promo6', 'Promo7', 'Promo8', 'Promo4']\n",
    "\n",
    "all_data['PromoID'] = np.select(conditions, promo_values, default='No Promo')"
   ]
  },
  {
   "cell_type": "code",
   "execution_count": 37,
   "metadata": {
    "id": "UqrjCkbrJqhR",
    "outputId": "71e0c3a1-1749-48b1-dc82-e5a345d0e66b"
   },
   "outputs": [
    {
     "data": {
      "text/html": [
       "<div>\n",
       "<style scoped>\n",
       "    .dataframe tbody tr th:only-of-type {\n",
       "        vertical-align: middle;\n",
       "    }\n",
       "\n",
       "    .dataframe tbody tr th {\n",
       "        vertical-align: top;\n",
       "    }\n",
       "\n",
       "    .dataframe thead th {\n",
       "        text-align: right;\n",
       "    }\n",
       "</style>\n",
       "<table border=\"1\" class=\"dataframe\">\n",
       "  <thead>\n",
       "    <tr style=\"text-align: right;\">\n",
       "      <th></th>\n",
       "      <th>datekey</th>\n",
       "      <th>Product</th>\n",
       "      <th>Store</th>\n",
       "      <th>Quantity</th>\n",
       "      <th>Geography</th>\n",
       "      <th>Category</th>\n",
       "      <th>PromoID</th>\n",
       "    </tr>\n",
       "  </thead>\n",
       "  <tbody>\n",
       "    <tr>\n",
       "      <th>0</th>\n",
       "      <td>2015-01-01</td>\n",
       "      <td>Product103</td>\n",
       "      <td>Store25</td>\n",
       "      <td>1</td>\n",
       "      <td>MIDWEST</td>\n",
       "      <td>Category3</td>\n",
       "      <td>No Promo</td>\n",
       "    </tr>\n",
       "    <tr>\n",
       "      <th>1</th>\n",
       "      <td>2015-01-01</td>\n",
       "      <td>Product103</td>\n",
       "      <td>Store4</td>\n",
       "      <td>1</td>\n",
       "      <td>MIDWEST</td>\n",
       "      <td>Category3</td>\n",
       "      <td>No Promo</td>\n",
       "    </tr>\n",
       "    <tr>\n",
       "      <th>2</th>\n",
       "      <td>2015-01-01</td>\n",
       "      <td>Product105</td>\n",
       "      <td>Store12</td>\n",
       "      <td>-1</td>\n",
       "      <td>NORTHEAST</td>\n",
       "      <td>Category3</td>\n",
       "      <td>No Promo</td>\n",
       "    </tr>\n",
       "    <tr>\n",
       "      <th>3</th>\n",
       "      <td>2015-01-01</td>\n",
       "      <td>Product105</td>\n",
       "      <td>Store2</td>\n",
       "      <td>1</td>\n",
       "      <td>SOUTH</td>\n",
       "      <td>Category3</td>\n",
       "      <td>No Promo</td>\n",
       "    </tr>\n",
       "    <tr>\n",
       "      <th>4</th>\n",
       "      <td>2015-01-01</td>\n",
       "      <td>Product105</td>\n",
       "      <td>Store25</td>\n",
       "      <td>1</td>\n",
       "      <td>MIDWEST</td>\n",
       "      <td>Category3</td>\n",
       "      <td>No Promo</td>\n",
       "    </tr>\n",
       "    <tr>\n",
       "      <th>...</th>\n",
       "      <td>...</td>\n",
       "      <td>...</td>\n",
       "      <td>...</td>\n",
       "      <td>...</td>\n",
       "      <td>...</td>\n",
       "      <td>...</td>\n",
       "      <td>...</td>\n",
       "    </tr>\n",
       "    <tr>\n",
       "      <th>793375</th>\n",
       "      <td>2016-12-31</td>\n",
       "      <td>Product99</td>\n",
       "      <td>Store27</td>\n",
       "      <td>1</td>\n",
       "      <td>SOUTH</td>\n",
       "      <td>Category3</td>\n",
       "      <td>Promo4</td>\n",
       "    </tr>\n",
       "    <tr>\n",
       "      <th>793376</th>\n",
       "      <td>2006-12-31</td>\n",
       "      <td>Product99</td>\n",
       "      <td>Store27</td>\n",
       "      <td>-1</td>\n",
       "      <td>SOUTH</td>\n",
       "      <td>Category3</td>\n",
       "      <td>No Promo</td>\n",
       "    </tr>\n",
       "    <tr>\n",
       "      <th>793377</th>\n",
       "      <td>2016-12-31</td>\n",
       "      <td>Product99</td>\n",
       "      <td>Store28</td>\n",
       "      <td>-1</td>\n",
       "      <td>MIDWEST</td>\n",
       "      <td>Category3</td>\n",
       "      <td>Promo4</td>\n",
       "    </tr>\n",
       "    <tr>\n",
       "      <th>793378</th>\n",
       "      <td>2016-12-31</td>\n",
       "      <td>Product99</td>\n",
       "      <td>Store5</td>\n",
       "      <td>1</td>\n",
       "      <td>SOUTH</td>\n",
       "      <td>Category3</td>\n",
       "      <td>Promo4</td>\n",
       "    </tr>\n",
       "    <tr>\n",
       "      <th>793379</th>\n",
       "      <td>2016-12-31</td>\n",
       "      <td>Product99</td>\n",
       "      <td>Store5</td>\n",
       "      <td>1</td>\n",
       "      <td>SOUTH</td>\n",
       "      <td>Category3</td>\n",
       "      <td>Promo4</td>\n",
       "    </tr>\n",
       "  </tbody>\n",
       "</table>\n",
       "<p>793380 rows × 7 columns</p>\n",
       "</div>"
      ],
      "text/plain": [
       "          datekey     Product    Store  Quantity  Geography   Category  \\\n",
       "0      2015-01-01  Product103  Store25         1    MIDWEST  Category3   \n",
       "1      2015-01-01  Product103   Store4         1    MIDWEST  Category3   \n",
       "2      2015-01-01  Product105  Store12        -1  NORTHEAST  Category3   \n",
       "3      2015-01-01  Product105   Store2         1      SOUTH  Category3   \n",
       "4      2015-01-01  Product105  Store25         1    MIDWEST  Category3   \n",
       "...           ...         ...      ...       ...        ...        ...   \n",
       "793375 2016-12-31   Product99  Store27         1      SOUTH  Category3   \n",
       "793376 2006-12-31   Product99  Store27        -1      SOUTH  Category3   \n",
       "793377 2016-12-31   Product99  Store28        -1    MIDWEST  Category3   \n",
       "793378 2016-12-31   Product99   Store5         1      SOUTH  Category3   \n",
       "793379 2016-12-31   Product99   Store5         1      SOUTH  Category3   \n",
       "\n",
       "         PromoID  \n",
       "0       No Promo  \n",
       "1       No Promo  \n",
       "2       No Promo  \n",
       "3       No Promo  \n",
       "4       No Promo  \n",
       "...          ...  \n",
       "793375    Promo4  \n",
       "793376  No Promo  \n",
       "793377    Promo4  \n",
       "793378    Promo4  \n",
       "793379    Promo4  \n",
       "\n",
       "[793380 rows x 7 columns]"
      ]
     },
     "execution_count": 37,
     "metadata": {},
     "output_type": "execute_result"
    }
   ],
   "source": [
    "all_data"
   ]
  },
  {
   "cell_type": "code",
   "execution_count": 38,
   "metadata": {
    "id": "Ar-YRayaJqhR",
    "outputId": "0e123f95-0ce1-4bab-9a0b-77f1de2329ca"
   },
   "outputs": [
    {
     "name": "stdout",
     "output_type": "stream",
     "text": [
      "<class 'pandas.core.frame.DataFrame'>\n",
      "Int64Index: 793380 entries, 0 to 793379\n",
      "Data columns (total 7 columns):\n",
      " #   Column     Non-Null Count   Dtype         \n",
      "---  ------     --------------   -----         \n",
      " 0   datekey    793380 non-null  datetime64[ns]\n",
      " 1   Product    793380 non-null  object        \n",
      " 2   Store      793380 non-null  object        \n",
      " 3   Quantity   793380 non-null  int64         \n",
      " 4   Geography  793380 non-null  object        \n",
      " 5   Category   793380 non-null  object        \n",
      " 6   PromoID    793380 non-null  object        \n",
      "dtypes: datetime64[ns](1), int64(1), object(5)\n",
      "memory usage: 48.4+ MB\n"
     ]
    }
   ],
   "source": [
    "all_data.info()"
   ]
  },
  {
   "cell_type": "code",
   "execution_count": 39,
   "metadata": {
    "id": "llNwCxUPJqhR",
    "outputId": "823dbdf6-54fa-4e26-daac-b84055986364"
   },
   "outputs": [
    {
     "data": {
      "text/html": [
       "<div>\n",
       "<style scoped>\n",
       "    .dataframe tbody tr th:only-of-type {\n",
       "        vertical-align: middle;\n",
       "    }\n",
       "\n",
       "    .dataframe tbody tr th {\n",
       "        vertical-align: top;\n",
       "    }\n",
       "\n",
       "    .dataframe thead th {\n",
       "        text-align: right;\n",
       "    }\n",
       "</style>\n",
       "<table border=\"1\" class=\"dataframe\">\n",
       "  <thead>\n",
       "    <tr style=\"text-align: right;\">\n",
       "      <th></th>\n",
       "      <th>Quantity</th>\n",
       "    </tr>\n",
       "  </thead>\n",
       "  <tbody>\n",
       "    <tr>\n",
       "      <th>count</th>\n",
       "      <td>793380.000000</td>\n",
       "    </tr>\n",
       "    <tr>\n",
       "      <th>mean</th>\n",
       "      <td>0.908954</td>\n",
       "    </tr>\n",
       "    <tr>\n",
       "      <th>std</th>\n",
       "      <td>2.057952</td>\n",
       "    </tr>\n",
       "    <tr>\n",
       "      <th>min</th>\n",
       "      <td>-1000.000000</td>\n",
       "    </tr>\n",
       "    <tr>\n",
       "      <th>25%</th>\n",
       "      <td>1.000000</td>\n",
       "    </tr>\n",
       "    <tr>\n",
       "      <th>50%</th>\n",
       "      <td>1.000000</td>\n",
       "    </tr>\n",
       "    <tr>\n",
       "      <th>75%</th>\n",
       "      <td>1.000000</td>\n",
       "    </tr>\n",
       "    <tr>\n",
       "      <th>max</th>\n",
       "      <td>200.000000</td>\n",
       "    </tr>\n",
       "  </tbody>\n",
       "</table>\n",
       "</div>"
      ],
      "text/plain": [
       "            Quantity\n",
       "count  793380.000000\n",
       "mean        0.908954\n",
       "std         2.057952\n",
       "min     -1000.000000\n",
       "25%         1.000000\n",
       "50%         1.000000\n",
       "75%         1.000000\n",
       "max       200.000000"
      ]
     },
     "execution_count": 39,
     "metadata": {},
     "output_type": "execute_result"
    }
   ],
   "source": [
    "all_data.describe()"
   ]
  },
  {
   "cell_type": "markdown",
   "metadata": {
    "id": "F-aTDeK8JqhS"
   },
   "source": [
    "#### Here you can see the mean is colsed to median because we have replaced the outliers with median of the Quantity."
   ]
  },
  {
   "cell_type": "markdown",
   "metadata": {},
   "source": [
    "#### There are some extreme year data in our dataset. So we will delete them as those values will be irrelevant for future Time Series Analysis"
   ]
  },
  {
   "cell_type": "code",
   "execution_count": 40,
   "metadata": {},
   "outputs": [
    {
     "data": {
      "text/plain": [
       "Int64Index([289372], dtype='int64')"
      ]
     },
     "execution_count": 40,
     "metadata": {},
     "output_type": "execute_result"
    }
   ],
   "source": [
    "index_to_delete = all_data[all_data['datekey'] == '17-12-2005  00:00:00'].index\n",
    "index_to_delete"
   ]
  },
  {
   "cell_type": "code",
   "execution_count": 41,
   "metadata": {},
   "outputs": [],
   "source": [
    "all_data = all_data.drop(index_to_delete)"
   ]
  },
  {
   "cell_type": "code",
   "execution_count": 42,
   "metadata": {},
   "outputs": [
    {
     "data": {
      "text/plain": [
       "Int64Index([793376], dtype='int64')"
      ]
     },
     "execution_count": 42,
     "metadata": {},
     "output_type": "execute_result"
    }
   ],
   "source": [
    "index_to_delete = all_data[all_data['datekey'] == '31-12-2006  00:00:00'].index\n",
    "index_to_delete"
   ]
  },
  {
   "cell_type": "code",
   "execution_count": 43,
   "metadata": {},
   "outputs": [],
   "source": [
    "all_data = all_data.drop(index_to_delete)"
   ]
  },
  {
   "cell_type": "code",
   "execution_count": 44,
   "metadata": {},
   "outputs": [
    {
     "name": "stdout",
     "output_type": "stream",
     "text": [
      "<class 'pandas.core.frame.DataFrame'>\n",
      "Int64Index: 793378 entries, 0 to 793379\n",
      "Data columns (total 7 columns):\n",
      " #   Column     Non-Null Count   Dtype         \n",
      "---  ------     --------------   -----         \n",
      " 0   datekey    793378 non-null  datetime64[ns]\n",
      " 1   Product    793378 non-null  object        \n",
      " 2   Store      793378 non-null  object        \n",
      " 3   Quantity   793378 non-null  int64         \n",
      " 4   Geography  793378 non-null  object        \n",
      " 5   Category   793378 non-null  object        \n",
      " 6   PromoID    793378 non-null  object        \n",
      "dtypes: datetime64[ns](1), int64(1), object(5)\n",
      "memory usage: 48.4+ MB\n"
     ]
    }
   ],
   "source": [
    "all_data.info()"
   ]
  },
  {
   "cell_type": "code",
   "execution_count": 46,
   "metadata": {},
   "outputs": [],
   "source": [
    "all_data.to_excel(\"all_data3.xlsx\")"
   ]
  },
  {
   "cell_type": "code",
   "execution_count": null,
   "metadata": {},
   "outputs": [],
   "source": []
  }
 ],
 "metadata": {
  "colab": {
   "provenance": []
  },
  "kernelspec": {
   "display_name": "Python 3 (ipykernel)",
   "language": "python",
   "name": "python3"
  },
  "language_info": {
   "codemirror_mode": {
    "name": "ipython",
    "version": 3
   },
   "file_extension": ".py",
   "mimetype": "text/x-python",
   "name": "python",
   "nbconvert_exporter": "python",
   "pygments_lexer": "ipython3",
   "version": "3.10.9"
  }
 },
 "nbformat": 4,
 "nbformat_minor": 1
}
